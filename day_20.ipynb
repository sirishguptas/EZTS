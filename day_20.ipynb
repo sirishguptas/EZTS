{
 "cells": [
  {
   "cell_type": "code",
   "execution_count": 2,
   "id": "0a83f394",
   "metadata": {},
   "outputs": [
    {
     "name": "stdout",
     "output_type": "stream",
     "text": [
      "[81, 34, 46, 56, 45, 104, 70, 37, 39, 20]\n"
     ]
    }
   ],
   "source": [
    "#double hashing\n",
    "x=[20,34,45,70,56,81,104,37,46,39]\n",
    "hashList=[False for _ in range(10)]\n",
    "\n",
    "for k in x:\n",
    "    i=0\n",
    "    while True:\n",
    "        a=k%11\n",
    "        b=8-(k%8)\n",
    "        c=(a+i*b)%11\n",
    "        if hashList[c]==False:\n",
    "            hashList[c]=k\n",
    "            break\n",
    "        else:\n",
    "            i+=1\n",
    "print(hashList)"
   ]
  },
  {
   "cell_type": "code",
   "execution_count": 8,
   "id": "7a8b1ceb",
   "metadata": {},
   "outputs": [
    {
     "name": "stdout",
     "output_type": "stream",
     "text": [
      "(3, 2)\n",
      "(2, 1)\n",
      "(1, 0)\n"
     ]
    }
   ],
   "source": [
    "#zip function\n",
    "# a=[2,4,5,3]\n",
    "# b=[1,2,4,5]\n",
    "# for i in zip(a,b):\n",
    "#     print(i)\n",
    "\n",
    "q=4\n",
    "i=3\n",
    "for x in zip(range(q-1,-1,-1),range(i-1,-1,-1)):\n",
    "    print(x)"
   ]
  },
  {
   "cell_type": "code",
   "execution_count": 3,
   "id": "e1256dee",
   "metadata": {},
   "outputs": [
    {
     "name": "stdout",
     "output_type": "stream",
     "text": [
      ". . Q .\n",
      "Q . . .\n",
      ". . . Q\n",
      ". Q . .\n"
     ]
    },
    {
     "data": {
      "text/plain": [
       "True"
      ]
     },
     "execution_count": 3,
     "metadata": {},
     "output_type": "execute_result"
    }
   ],
   "source": [
    "def is_safe(board, row, col, n):\n",
    "    for i in range(col):\n",
    "        if board[row][i] == 1:\n",
    "            return False\n",
    "    for i, j in zip(range(row, -1, -1), range(col, -1, -1)):\n",
    "        if board[i][j] == 1:\n",
    "            return False\n",
    "    for i, j in zip(range(row, n, 1), range(col, -1, -1)):\n",
    "        if board[i][j] == 1:\n",
    "            return False\n",
    "    return True\n",
    "\n",
    "def solve_nqueens_util(board, col, n):\n",
    "    if col >= n:\n",
    "        return True\n",
    "    for i in range(n):\n",
    "        if is_safe(board, i, col, n):\n",
    "            board[i][col] = 1\n",
    "            if solve_nqueens_util(board, col + 1, n):\n",
    "                return True\n",
    "            board[i][col] = 0\n",
    "    return False\n",
    "\n",
    "def solve_nqueens(n):\n",
    "    board = [[0] * n for _ in range(n)]\n",
    "    if not solve_nqueens_util(board, 0, n):\n",
    "        print(\"Solution does not exist\")\n",
    "        return False\n",
    "    print_solution(board)\n",
    "    return True\n",
    "\n",
    "def print_solution(board):\n",
    "    for row in board:\n",
    "        print(\" \".join(\"Q\" if x else \".\" for x in row))\n",
    "\n",
    "\n",
    "n = 4\n",
    "solve_nqueens(n)\n"
   ]
  },
  {
   "cell_type": "code",
   "execution_count": 9,
   "id": "ecc8995c",
   "metadata": {},
   "outputs": [
    {
     "name": "stdout",
     "output_type": "stream",
     "text": [
      "[7, 7, 1, 1, 1, 1]\n",
      "6\n"
     ]
    }
   ],
   "source": [
    "denominations = [7, 5, 1]\n",
    "bill_amount = 18\n",
    "\n",
    "result = []\n",
    "\n",
    "for coin in denominations:\n",
    "    while bill_amount >= coin:\n",
    "        bill_amount -= coin\n",
    "        result.append(coin)\n",
    "\n",
    "if bill_amount == 0:\n",
    "    print( result)\n",
    "    print(len(result))\n",
    "\n"
   ]
  },
  {
   "cell_type": "code",
   "execution_count": 5,
   "id": "b56b3a7a",
   "metadata": {},
   "outputs": [
    {
     "name": "stdout",
     "output_type": "stream",
     "text": [
      "[7, 7, 1, 1, 1, 1]\n",
      "6\n"
     ]
    }
   ],
   "source": [
    "coins = [7, 5, 1]\n",
    "bill_amount = 18\n",
    "result = []\n",
    "\n",
    "for coin in coins:\n",
    "   \n",
    "    while bill_amount >= coin:\n",
    "        result.append(coin)\n",
    "        bill_amount -= coin\n",
    "\n",
    "if bill_amount == 0:\n",
    "    print( result)\n",
    "    print(len(result))\n",
    "\n"
   ]
  },
  {
   "cell_type": "code",
   "execution_count": 12,
   "id": "31455f88",
   "metadata": {},
   "outputs": [
    {
     "name": "stdout",
     "output_type": "stream",
     "text": [
      "[7, 7, 1, 1, 1, 1]\n",
      "6\n"
     ]
    }
   ],
   "source": [
    "denominations = [7, 5, 1]\n",
    "bill_amount = 18\n",
    "\n",
    "result = []\n",
    "\n",
    "for coin in [7, 5, 5, 1]:\n",
    "    while bill_amount >= coin:\n",
    "        result.append(coin)\n",
    "        bill_amount -= coin\n",
    "\n",
    "if bill_amount == 0:\n",
    "    print( result)\n",
    "    print(len(result))\n",
    "\n"
   ]
  },
  {
   "cell_type": "code",
   "execution_count": 2,
   "id": "2f245b4e",
   "metadata": {},
   "outputs": [
    {
     "name": "stdout",
     "output_type": "stream",
     "text": [
      "Sum: 18\n",
      "Count: 6\n"
     ]
    }
   ],
   "source": [
    "coins = [1, 5, 7]\n",
    "amt = 18\n",
    "Sum = 0\n",
    "count = 0\n",
    "\n",
    "while Sum < amt:\n",
    "    if (Sum + coins[2]) <= amt:\n",
    "        Sum += coins[2]\n",
    "        count += 1\n",
    "    elif (Sum + coins[1]) <= amt:\n",
    "        Sum += coins[1]\n",
    "        count += 1\n",
    "    elif (Sum + coins[0]) <= amt:\n",
    "        Sum += coins[0]\n",
    "        count += 1\n",
    "\n",
    "print(\"Sum:\", Sum)\n",
    "print(\"Count:\", count)\n"
   ]
  },
  {
   "cell_type": "code",
   "execution_count": 6,
   "id": "dd3da8d8",
   "metadata": {},
   "outputs": [
    {
     "name": "stdout",
     "output_type": "stream",
     "text": [
      "Minimum number of coins needed: 4\n"
     ]
    }
   ],
   "source": [
    "def min_coins(coins, amount):\n",
    "    if amount == 0:\n",
    "        return 0\n",
    "    if amount < 0:\n",
    "        return float('inf')\n",
    "    \n",
    "    min_count = float('inf')\n",
    "    \n",
    "    for coin in coins:\n",
    "        count = min_coins(coins, amount - coin) + 1\n",
    "        if count < min_count:\n",
    "            min_count = count\n",
    "    \n",
    "    return min_count\n",
    "\n",
    "coins = [1, 5, 7]\n",
    "amount = 18\n",
    "\n",
    "min_count = min_coins(coins, amount)\n",
    "print(\"Minimum number of coins needed:\", min_count)\n"
   ]
  },
  {
   "cell_type": "code",
   "execution_count": 7,
   "id": "d700d763",
   "metadata": {},
   "outputs": [
    {
     "name": "stdout",
     "output_type": "stream",
     "text": [
      "Minimum number of coins needed: 4\n"
     ]
    }
   ],
   "source": [
    "def min_coins(coins, amount):\n",
    "    dp = [float('inf')] * (amount + 1)\n",
    "    dp[0] = 0\n",
    "    \n",
    "    for i in range(1, amount + 1):\n",
    "        for coin in coins:\n",
    "            if i >= coin:\n",
    "                dp[i] = min(dp[i], dp[i - coin] + 1)\n",
    "    \n",
    "    return dp[amount]\n",
    "\n",
    "\n",
    "coins = [1, 5, 7]\n",
    "amount = 18\n",
    "\n",
    "min_count = min_coins(coins, amount)\n",
    "print(\"Minimum number of coins needed:\", min_count)\n"
   ]
  },
  {
   "cell_type": "code",
   "execution_count": null,
   "id": "ba5e5534",
   "metadata": {},
   "outputs": [],
   "source": []
  }
 ],
 "metadata": {
  "kernelspec": {
   "display_name": "Python 3 (ipykernel)",
   "language": "python",
   "name": "python3"
  },
  "language_info": {
   "codemirror_mode": {
    "name": "ipython",
    "version": 3
   },
   "file_extension": ".py",
   "mimetype": "text/x-python",
   "name": "python",
   "nbconvert_exporter": "python",
   "pygments_lexer": "ipython3",
   "version": "3.11.5"
  }
 },
 "nbformat": 4,
 "nbformat_minor": 5
}
