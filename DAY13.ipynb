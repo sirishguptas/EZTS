{
 "cells": [
  {
   "cell_type": "code",
   "execution_count": 4,
   "id": "97abeffe",
   "metadata": {},
   "outputs": [
    {
     "name": "stdout",
     "output_type": "stream",
     "text": [
      "5 10 15 7 8 9 4\n",
      "1 3 5 4 1 3 2\n",
      "15\n"
     ]
    },
    {
     "ename": "TypeError",
     "evalue": "'float' object is not iterable",
     "output_type": "error",
     "traceback": [
      "\u001b[1;31m---------------------------------------------------------------------------\u001b[0m",
      "\u001b[1;31mTypeError\u001b[0m                                 Traceback (most recent call last)",
      "Cell \u001b[1;32mIn[4], line 8\u001b[0m\n\u001b[0;32m      6\u001b[0m \u001b[38;5;28;01mfor\u001b[39;00m i \u001b[38;5;129;01min\u001b[39;00m \u001b[38;5;28mrange\u001b[39m(\u001b[38;5;241m0\u001b[39m,\u001b[38;5;28mlen\u001b[39m(p)):\n\u001b[0;32m      7\u001b[0m     pw\u001b[38;5;241m.\u001b[39mappend(p[i]\u001b[38;5;241m/\u001b[39mw[i])\n\u001b[1;32m----> 8\u001b[0m \u001b[38;5;28;01mfor\u001b[39;00m i \u001b[38;5;129;01min\u001b[39;00m \u001b[38;5;28mmax\u001b[39m(pw):\n\u001b[0;32m      9\u001b[0m     \u001b[38;5;28;01mif\u001b[39;00m w[i]\u001b[38;5;241m<\u001b[39m\u001b[38;5;241m=\u001b[39mc:\n\u001b[0;32m     10\u001b[0m         pos\u001b[38;5;241m=\u001b[39mpw\u001b[38;5;241m.\u001b[39mindex(i)\n",
      "\u001b[1;31mTypeError\u001b[0m: 'float' object is not iterable"
     ]
    }
   ],
   "source": [
    "p=list(map(int,input().split()))\n",
    "w=list(map(int,input().split()))\n",
    "c=int(input())\n",
    "pw=[]\n",
    "profit=0\n",
    "for i in range(0,len(p)):\n",
    "    pw.append(p[i]/w[i])\n",
    "for i in max(pw):\n",
    "    if w[i]<=c:\n",
    "        pos=pw.index(i)\n",
    "        pw.pop(pos)\n",
    "    profit+=p[i]\n",
    "    c-=w[i]\n",
    "    \n",
    "print(profit)\n"
   ]
  },
  {
   "cell_type": "code",
   "execution_count": 6,
   "id": "a3d1f1a2",
   "metadata": {},
   "outputs": [
    {
     "name": "stdout",
     "output_type": "stream",
     "text": [
      "5 10 15 7 8 9 4\n",
      "1 3 5 4 1 3 2\n",
      "15\n"
     ]
    },
    {
     "ename": "ValueError",
     "evalue": "0 is not in list",
     "output_type": "error",
     "traceback": [
      "\u001b[1;31m---------------------------------------------------------------------------\u001b[0m",
      "\u001b[1;31mValueError\u001b[0m                                Traceback (most recent call last)",
      "Cell \u001b[1;32mIn[6], line 11\u001b[0m\n\u001b[0;32m      9\u001b[0m m\u001b[38;5;241m=\u001b[39m\u001b[38;5;28mmax\u001b[39m(pw)\n\u001b[0;32m     10\u001b[0m \u001b[38;5;28;01mif\u001b[39;00m w[i]\u001b[38;5;241m<\u001b[39m\u001b[38;5;241m=\u001b[39mc:\n\u001b[1;32m---> 11\u001b[0m     pos\u001b[38;5;241m=\u001b[39mpw\u001b[38;5;241m.\u001b[39mindex(i)\n\u001b[0;32m     12\u001b[0m     pw\u001b[38;5;241m.\u001b[39mpop(pos)\n\u001b[0;32m     13\u001b[0m profit\u001b[38;5;241m+\u001b[39m\u001b[38;5;241m=\u001b[39mp[i]\n",
      "\u001b[1;31mValueError\u001b[0m: 0 is not in list"
     ]
    }
   ],
   "source": [
    "p=list(map(int,input().split()))\n",
    "w=list(map(int,input().split()))\n",
    "c=int(input())\n",
    "pw=[]\n",
    "profit=0\n",
    "for i in range(0,len(p)):\n",
    "    pw.append(p[i]/w[i])\n",
    "for i in range(len(pw)):\n",
    "    m=max(pw)\n",
    "    if w[i]<=c:\n",
    "        pos=pw.index(i)\n",
    "        pw.pop(pos)\n",
    "    profit+=p[i]\n",
    "    c-=w[i]\n",
    "    \n",
    "print(profit)\n"
   ]
  },
  {
   "cell_type": "code",
   "execution_count": null,
   "id": "6616a2f5",
   "metadata": {},
   "outputs": [],
   "source": []
  }
 ],
 "metadata": {
  "kernelspec": {
   "display_name": "Python 3 (ipykernel)",
   "language": "python",
   "name": "python3"
  },
  "language_info": {
   "codemirror_mode": {
    "name": "ipython",
    "version": 3
   },
   "file_extension": ".py",
   "mimetype": "text/x-python",
   "name": "python",
   "nbconvert_exporter": "python",
   "pygments_lexer": "ipython3",
   "version": "3.11.5"
  }
 },
 "nbformat": 4,
 "nbformat_minor": 5
}
