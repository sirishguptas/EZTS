{
 "cells": [
  {
   "cell_type": "code",
   "execution_count": 1,
   "id": "5ae983c8",
   "metadata": {},
   "outputs": [],
   "source": [
    "#KMP ALGORITHM FOR PATTERN MATCHING\n"
   ]
  },
  {
   "cell_type": "markdown",
   "id": "590a43cc",
   "metadata": {},
   "source": [
    "##### Anything written in double quotes and single quotes can be treated as a literal\n",
    "##### variable is an name given to a memory location.\n",
    "##### print(\"pattern is litera\",i-j [is variable-])"
   ]
  },
  {
   "cell_type": "markdown",
   "id": "5bf78d5d",
   "metadata": {},
   "source": [
    "Type checking is done at the compile time, It is static. \n",
    "If type checking is done at the runtime, It is dynamic."
   ]
  },
  {
   "cell_type": "code",
   "execution_count": 12,
   "id": "b6eb91b2",
   "metadata": {},
   "outputs": [
    {
     "name": "stdout",
     "output_type": "stream",
     "text": [
      "3\n",
      "move 1 from A to c\n",
      "move 2 from A to B\n",
      "move 1 from c to B\n",
      "move 3 from A to c\n",
      "move 1 from B to A\n",
      "move 2 from B to c\n",
      "move 1 from A to c\n"
     ]
    }
   ],
   "source": [
    "#TOWER OF HANOI\n",
    "def tower(n,frm,aux,to):\n",
    "    if n==1:\n",
    "        print(f\"move {n} from {frm} to {to}\")\n",
    "        return\n",
    "    tower(n-1,frm,to,aux)\n",
    "    print(f\"move {n} from {frm} to {to}\")\n",
    "    tower(n-1,aux,frm,to)\n",
    "    \n",
    "n=int(input())\n",
    "tower(n,'A','B','c')\n",
    "    "
   ]
  },
  {
   "cell_type": "markdown",
   "id": "e47f3f04",
   "metadata": {},
   "source": [
    "#####  Here we have used the list CTR to update the count, because if we just use a normal count, that will be passed to a function like pass by value. Then the changes made to it will not be reflected in the program when returning back the value. Whereas if we take CTR, which is the name of a list itself, a pointer reference, the changes made will be reflected. and it is a pass by reference."
   ]
  },
  {
   "cell_type": "code",
   "execution_count": 13,
   "id": "5fcd27c4",
   "metadata": {},
   "outputs": [
    {
     "name": "stdout",
     "output_type": "stream",
     "text": [
      "3\n",
      "move 1 from A to C\n",
      "move 2 from A to B\n",
      "move 1 from C to B\n",
      "move 3 from A to C\n",
      "move 1 from B to A\n",
      "move 2 from B to C\n",
      "move 1 from A to C\n",
      "[7]\n"
     ]
    }
   ],
   "source": [
    "ctr=[0]# Here we have used the list CTR to update the count, because if we just use a normal count, that will be passed to a function like pass by value. Then the changes made to it will not be reflected in the program when returning back the value. Whereas if we take CTR, which is the name of a list itself, a pointer reference, the changes made will be reflected. and it is a pass by reference.\n",
    "def towerofhanoi(n,frm,to,aux,ctr):\n",
    "        if n==0:\n",
    "            return\n",
    "        towerofhanoi(n-1,frm,aux,to,ctr)\n",
    "        print(f\"move {n} from {frm} to {to}\")\n",
    "        ctr[0]+=1\n",
    "        towerofhanoi(n-1,aux,to,frm,ctr)\n",
    "n=int(input())\n",
    "\n",
    "towerofhanoi(n,'A','C','B',ctr)\n",
    "print(ctr)"
   ]
  },
  {
   "cell_type": "code",
   "execution_count": null,
   "id": "e950c522",
   "metadata": {},
   "outputs": [],
   "source": []
  },
  {
   "cell_type": "code",
   "execution_count": null,
   "id": "192e4b6f",
   "metadata": {},
   "outputs": [],
   "source": []
  }
 ],
 "metadata": {
  "kernelspec": {
   "display_name": "Python 3 (ipykernel)",
   "language": "python",
   "name": "python3"
  },
  "language_info": {
   "codemirror_mode": {
    "name": "ipython",
    "version": 3
   },
   "file_extension": ".py",
   "mimetype": "text/x-python",
   "name": "python",
   "nbconvert_exporter": "python",
   "pygments_lexer": "ipython3",
   "version": "3.11.5"
  }
 },
 "nbformat": 4,
 "nbformat_minor": 5
}
