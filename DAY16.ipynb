{
 "cells": [
  {
   "cell_type": "code",
   "execution_count": 10,
   "id": "900298a9",
   "metadata": {},
   "outputs": [
    {
     "name": "stdout",
     "output_type": "stream",
     "text": [
      "[(0, 1), (0, 2), (0, 3), (1, 4), (2, 1), (2, 4), (3, 2), (3, 5), (4, 5)]\n",
      "{0: 0, 1: inf, 2: inf, 3: inf, 4: inf, 5: inf}\n",
      "{0: 0, 1: 1, 2: 3, 3: 5, 4: 0, 5: 3}\n"
     ]
    }
   ],
   "source": [
    "#SHORTEST DISTANCE FROM SINGLE SOURCE\n",
    "#BELLMANN-FORD ALGORITHM\n",
    "\n",
    "G=[[0,6,4,5,False,False],\n",
    "   [False,0,False,False,-1,False],\n",
    "   [False,-2,0,False,3,False],\n",
    "   [False,False,-2,0,False,-1],\n",
    "   [ False,False,False,False,0,3],\n",
    "   [False,False,False,False,False,0]]\n",
    "EL=[]\n",
    "for i in range(len(G)):\n",
    "    for j in range(len(G[i])):\n",
    "        if G[i][j]!=False and G[i][j]!=0:\n",
    "            EL.append(tuple((i,j)))\n",
    "print(EL)\n",
    "\n",
    "dist={}\n",
    "for i in range(len(G)):\n",
    "    dist[i]=float('inf')\n",
    "dist[0]=0\n",
    "print(dist)\n",
    "\n",
    "for i in range(len(G)-1):\n",
    "    for j in EL:\n",
    "        new_dist=dist[j[0]]+G[j[0]][j[1]]\n",
    "        if dist[j[1]]>new_dist:\n",
    "            dist[j[1]]=new_dist\n",
    "print(dist)\n"
   ]
  },
  {
   "cell_type": "code",
   "execution_count": 11,
   "id": "6bb24565",
   "metadata": {},
   "outputs": [
    {
     "name": "stdout",
     "output_type": "stream",
     "text": [
      "[0, 4, 12, 19, 21, 11, 9, 8, 14]\n"
     ]
    }
   ],
   "source": [
    "#DIJKSTRA'S ALGORITHM\n",
    "# Dijkstra algorithm will not work on negative loop cycle\n",
    "\n",
    "graph = [\n",
    "    [0, 4, -1, -1, -1, -1, -1, 8, -1],  # 0\n",
    "    [4, 0, 8, -1, -1, -1, -1, 11, -1],  # 1\n",
    "    [-1, 8, 0, 7, -1, 4, -1, -1, 2],    # 2\n",
    "    [-1, -1, 7, 0, 9, 14, -1, -1, -1],  # 3\n",
    "    [-1, -1, -1, 9, 0, 10, -1, -1, -1], # 4\n",
    "    [-1, -1, 4, 14, 10, 0, 2, -1, -1],   # 5\n",
    "    [-1, -1, -1, -1, -1, 2, 0, 1, 6],   # 6\n",
    "    [8, 11, -1, -1, -1, -1, 1, 0, 7],   # 7\n",
    "    [-1, -1, 2, -1, -1, 2, 6, 7, 0]   # 8\n",
    "]\n",
    "value={0:float('inf'),1:float('inf'),2:float('inf'),3:float('inf'),4:float('inf'),5:float('inf'),\n",
    "       6:float('inf'),7:float('inf'),8:float('inf')}\n",
    "res=[0]*len(value)\n",
    "visit=[False]*len(value)\n",
    "start=0\n",
    "value[start]=0\n",
    "n=len(value)\n",
    "while False in visit:\n",
    "    min_key=min(value,key=value.get)\n",
    "    min_value=value[min_key]\n",
    "    value.pop(min_key)\n",
    "    res[min_key]=min_value\n",
    "    visit[min_key]=True\n",
    "    for i in range(n):\n",
    "        if i in value.keys():\n",
    "            if graph[min_key][i]<=0:\n",
    "                continue\n",
    "            elif min_value+graph[min_key][i]<=value[i]:\n",
    "                    value[i]=min_value+graph[min_key][i]\n",
    "print(res)"
   ]
  },
  {
   "cell_type": "code",
   "execution_count": 15,
   "id": "982ddebc",
   "metadata": {},
   "outputs": [
    {
     "name": "stdout",
     "output_type": "stream",
     "text": [
      "[0, 4, 6, 5, 5, 7, 4, 2, 2, 2]\n"
     ]
    }
   ],
   "source": [
    "#*****#\n",
    "graph = [\n",
    "        [ 0,  7, False, False, False, False, False,  2, False, False],\n",
    "        [ 7,  0,  4,  1, False,  5, False, False, False, False],\n",
    "        [False,  4,  0, False, False, False, False,  8, False, False],\n",
    "        [False,  1, False,  0,  6,  8,  3,  3, False, False],\n",
    "        [False, False, False,  6,  0, False, False,  6,  8, False],\n",
    "        [False,  5, False,  8, False,  0, False, False, False, False],\n",
    "        [False, False, False,  3, False, False,  0, False,  9, 10],\n",
    "        [ 2, False,  8,  3,  6, False, False,  0, False, False],\n",
    "        [False, False, False,  8, False,  9, False, False,  0, False],\n",
    "        [False, False, False, False, False, False,  2, False, False,  0]\n",
    "]\n",
    "\n",
    "temp = {}\n",
    "\n",
    "for i in range(len(graph)):\n",
    "    temp[i] = float('inf')\n",
    "    \n",
    "dist = [float('inf')]*len(graph)\n",
    "\n",
    "temp[0] = 0 # consider start index as 0\n",
    "while len(temp) > 0:\n",
    "    min_value = min(temp.values())\n",
    "    min_key = min(temp, key = temp.get)\n",
    "    temp.pop(min_key)\n",
    "    dist[min_key] = min_value\n",
    "    \n",
    "    for j in range(len(graph[min_key])):\n",
    "        if graph[min_key][j] != False and graph[min_key][j] != 0:\n",
    "            new_dist = min_value + graph[min_key][j]\n",
    "        if j in temp.keys() and temp[j] > new_dist:\n",
    "            temp[j] = new_dist\n",
    "print(dist)"
   ]
  },
  {
   "cell_type": "code",
   "execution_count": 7,
   "id": "c9f1189e",
   "metadata": {},
   "outputs": [
    {
     "name": "stdout",
     "output_type": "stream",
     "text": [
      "Minimum cost=  19\n",
      "(3, (0, 1, 2, 3))\n",
      "(4, (0, 1, 2, 4))\n",
      "(2, (0, 1, 2))\n",
      "(2, (0, 1, 3, 2))\n",
      "(4, (0, 1, 3, 4))\n",
      "(3, (0, 1, 3))\n",
      "(2, (0, 1, 4, 2))\n",
      "(3, (0, 1, 4, 3))\n",
      "(4, (0, 1, 4))\n",
      "(1, (0, 1))\n",
      "(3, (0, 2, 1, 3))\n",
      "(4, (0, 2, 1, 4))\n",
      "(1, (0, 2, 1))\n",
      "(1, (0, 2, 3, 1))\n",
      "(4, (0, 2, 3, 4))\n",
      "(3, (0, 2, 3))\n",
      "(1, (0, 2, 4, 1))\n",
      "(3, (0, 2, 4, 3))\n",
      "(4, (0, 2, 4))\n",
      "(2, (0, 2))\n",
      "(2, (0, 3, 1, 2))\n",
      "(4, (0, 3, 1, 4))\n",
      "(1, (0, 3, 1))\n",
      "(1, (0, 3, 2, 1))\n",
      "(4, (0, 3, 2, 4))\n",
      "(2, (0, 3, 2))\n",
      "(1, (0, 3, 4, 1))\n",
      "(2, (0, 3, 4, 2))\n",
      "(4, (0, 3, 4))\n",
      "(3, (0, 3))\n",
      "(2, (0, 4, 1, 2))\n",
      "(3, (0, 4, 1, 3))\n",
      "(1, (0, 4, 1))\n",
      "(1, (0, 4, 2, 1))\n",
      "(3, (0, 4, 2, 3))\n",
      "(2, (0, 4, 2))\n",
      "(1, (0, 4, 3, 1))\n",
      "(2, (0, 4, 3, 2))\n",
      "(3, (0, 4, 3))\n",
      "(4, (0, 4))\n",
      "(0, (0,))\n"
     ]
    }
   ],
   "source": [
    "#Traveeling sales person (DYNAMIC PROGRAMMING[memoization])\n",
    "import sys\n",
    "def cost(curr,visited,G,DP):\n",
    "    n=len(G)\n",
    "    if len(visited)==n:\n",
    "        return G[curr][0]\n",
    "    visit = tuple(visited)\n",
    "    if (curr,visit) in DP:\n",
    "        return DP[(curr,visit)]\n",
    "    \n",
    "    min_cost=sys.maxsize\n",
    "    \n",
    "    for i in range(n):\n",
    "        if i not in visited:\n",
    "            new_visited=visited+[i]\n",
    "            new_cost=G[curr][i]+cost(i,new_visited,G,DP)\n",
    "            min_cost=min(min_cost,new_cost)\n",
    "    DP[(curr,visit)]=min_cost\n",
    "    return min_cost\n",
    "        \n",
    "G=[\n",
    "    [0,4,7,5,5],\n",
    "    [4,0,2,3,8],\n",
    "    [7,2,0,3,4],\n",
    "    [5,3,3,0,6],\n",
    "    [5,8,4,6,0]\n",
    "]\n",
    "n=len(G)\n",
    "DP={}\n",
    "print(\"Minimum cost= \", cost(0,[0],G,DP))\n",
    "for i in DP:\n",
    "    print(i)"
   ]
  },
  {
   "cell_type": "code",
   "execution_count": 6,
   "id": "5a7e8011",
   "metadata": {},
   "outputs": [
    {
     "name": "stdout",
     "output_type": "stream",
     "text": [
      "[2, 20]\n"
     ]
    }
   ],
   "source": [
    "#PATTERN MATCHING\n",
    "S=\"ABABABCANFDKABABCNCKABABCACNDA\"\n",
    "P=\"ABABCA\"\n",
    "list=[]\n",
    "index=-1\n",
    "while True:\n",
    "    index=S.find(P,index+1)\n",
    "    if index==-1:\n",
    "        break\n",
    "    list.append(index)\n",
    "print(list)"
   ]
  },
  {
   "cell_type": "code",
   "execution_count": 5,
   "id": "2d1f672f",
   "metadata": {},
   "outputs": [
    {
     "name": "stdout",
     "output_type": "stream",
     "text": [
      "2\n",
      "12\n",
      "21\n"
     ]
    }
   ],
   "source": [
    "s='ABABABCANFDKABABCANCKABABCACNDA'\n",
    "p='ABABCA'\n",
    "pl=len(p)\n",
    "s=s.split(p)\n",
    "c=0\n",
    "for i in range(0,len(s)-1):\n",
    "    c=c+len(s[i])\n",
    "    print(c)\n",
    "    c=c+pl"
   ]
  },
  {
   "cell_type": "code",
   "execution_count": null,
   "id": "0816d277",
   "metadata": {},
   "outputs": [],
   "source": []
  },
  {
   "cell_type": "code",
   "execution_count": null,
   "id": "14467ae0",
   "metadata": {},
   "outputs": [],
   "source": []
  }
 ],
 "metadata": {
  "kernelspec": {
   "display_name": "Python 3 (ipykernel)",
   "language": "python",
   "name": "python3"
  },
  "language_info": {
   "codemirror_mode": {
    "name": "ipython",
    "version": 3
   },
   "file_extension": ".py",
   "mimetype": "text/x-python",
   "name": "python",
   "nbconvert_exporter": "python",
   "pygments_lexer": "ipython3",
   "version": "3.11.5"
  }
 },
 "nbformat": 4,
 "nbformat_minor": 5
}
