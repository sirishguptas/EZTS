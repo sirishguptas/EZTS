{
 "cells": [
  {
   "cell_type": "markdown",
   "id": "bf443f4a",
   "metadata": {},
   "source": [
    "# graph"
   ]
  },
  {
   "cell_type": "code",
   "execution_count": 1,
   "id": "adfe9cd3",
   "metadata": {},
   "outputs": [
    {
     "name": "stdout",
     "output_type": "stream",
     "text": [
      "5 3 6 8 4 7 2 1 "
     ]
    }
   ],
   "source": [
    "def dfs(graph,visited,stack,element):\n",
    "    if visited[element]==False:\n",
    "        stack.append(element)\n",
    "        visited[element]=True\n",
    "    else:\n",
    "        return\n",
    "    for i in graph[element]:\n",
    "        dfs(graph,visited,stack,i[1])\n",
    "    print(stack.pop(),end=\" \")\n",
    "\n",
    "graph={1:[(1,2,0),(1,3,0)],2:[(2,1,0),(2,7,0)],3:[(3,1,0),(3,5,0),(3,6,0)],4:[(4,7,0),(4,8,0)],5:[(5,3,0),(5,7,0)],6:[(6,3,0),(6,8,0)],7:\n",
    "      [(7,2,0),(7,4,0),(7,5,0)],8:[(8,4,0),(8,6,0)]}\n",
    "visited={1:False,2:False,3:False,4:False,5:False,6:False,7:False,8:False,}\n",
    "stack=[]\n",
    "for i in graph:\n",
    "    dfs(graph,visited,stack,i)\n"
   ]
  },
  {
   "cell_type": "code",
   "execution_count": 1,
   "id": "e83af6a8",
   "metadata": {},
   "outputs": [
    {
     "name": "stdout",
     "output_type": "stream",
     "text": [
      "1 2 3 7 5 6 4 8 "
     ]
    }
   ],
   "source": [
    "def bfs(graph, element):\n",
    "    queue=[element]\n",
    "    visited={}\n",
    "    for i in graph.keys():\n",
    "        visited[i]=False\n",
    "    visited[element]=True\n",
    "   \n",
    "    while queue:\n",
    "        curr = queue.pop(0)\n",
    "        print(curr,end=\" \")\n",
    "        for i in graph[curr]:\n",
    "            if visited[i[1]]==False:\n",
    "                queue.append(i[1])\n",
    "                visited[i[1]]=True\n",
    "\n",
    "graph={1:[(1,2,0),(1,3,0)],2:[(2,1,0),(2,7,0)],3:[(3,1,0),(3,5,0),(3,6,0)],4:[(4,7,0),(4,8,0)],5:[(5,3,0),(5,7,0)],6:[(6,3,0),(6,8,0)],7:\n",
    "      [(7,2,0),(7,4,0),(7,5,0)],8:[(8,4,0),(8,6,0)]}\n",
    "bfs(graph,1)\n",
    "\n"
   ]
  },
  {
   "cell_type": "markdown",
   "id": "74c11d98",
   "metadata": {},
   "source": [
    "# BST Tree"
   ]
  },
  {
   "cell_type": "code",
   "execution_count": 31,
   "id": "248a3350",
   "metadata": {},
   "outputs": [
    {
     "name": "stdout",
     "output_type": "stream",
     "text": [
      "1 2 3 4 5 6 7 8 9 "
     ]
    }
   ],
   "source": [
    "class Node:\n",
    "    def __init__(self,data):\n",
    "        self.value=data\n",
    "        self.left=None\n",
    "        self.right=None\n",
    "\n",
    "def BST(e,value):\n",
    "    if e==None:\n",
    "        return Node(value)\n",
    "    if value<e.value:\n",
    "        e.left=BST(e.left,value)\n",
    "    if value>e.value:\n",
    "        e.right=BST(e.right,value)\n",
    "    return e\n",
    "    \n",
    "def inorder(root):\n",
    "    if root==None:\n",
    "        return \n",
    "    \n",
    "    inorder(root.left)\n",
    "    print(root.value,end=\" \")\n",
    "    inorder(root.right)\n",
    "        \n",
    "        \n",
    "list=[4,6,7,3,8,2,5,9,1]\n",
    "root=Node(list.pop(0))\n",
    "for i in list:\n",
    "    BST(root,i)\n",
    "inorder(root)\n"
   ]
  },
  {
   "cell_type": "code",
   "execution_count": null,
   "id": "bb404d88",
   "metadata": {},
   "outputs": [],
   "source": []
  },
  {
   "cell_type": "code",
   "execution_count": null,
   "id": "5e7ec911",
   "metadata": {},
   "outputs": [],
   "source": []
  }
 ],
 "metadata": {
  "kernelspec": {
   "display_name": "Python 3 (ipykernel)",
   "language": "python",
   "name": "python3"
  },
  "language_info": {
   "codemirror_mode": {
    "name": "ipython",
    "version": 3
   },
   "file_extension": ".py",
   "mimetype": "text/x-python",
   "name": "python",
   "nbconvert_exporter": "python",
   "pygments_lexer": "ipython3",
   "version": "3.11.5"
  }
 },
 "nbformat": 4,
 "nbformat_minor": 5
}
