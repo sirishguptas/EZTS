{
 "cells": [
  {
   "cell_type": "code",
   "execution_count": null,
   "id": "77be6125",
   "metadata": {},
   "outputs": [],
   "source": [
    "p=[5,10,15,7,8,9,4]\n",
    "w=[1,3,5,4,1,3,2]\n",
    "pw={}\n",
    "for i in range(len(p)):\n",
    "    pw[i]=p[i]/w[i]\n"
   ]
  },
  {
   "cell_type": "code",
   "execution_count": 4,
   "id": "6893e255",
   "metadata": {},
   "outputs": [
    {
     "name": "stdout",
     "output_type": "stream",
     "text": [
      "400\n",
      "16\n",
      "15\n"
     ]
    }
   ],
   "source": [
    "#lambda Function\n",
    "\n",
    "def a(x):\n",
    "    return x*x\n",
    "#def b(x):\n",
    " #   return x-4\n",
    "B=lambda x:x-4\n",
    "c=lambda x,y,z:x+y+z\n",
    "    \n",
    "print(a(20))\n",
    "#print(b(20))\n",
    "print(B(20))\n",
    "print(c(5,5,5))"
   ]
  },
  {
   "cell_type": "code",
   "execution_count": 4,
   "id": "f7fcf05b",
   "metadata": {},
   "outputs": [
    {
     "name": "stdout",
     "output_type": "stream",
     "text": [
      "51\n"
     ]
    }
   ],
   "source": [
    "#knapsack problem using recursion\n",
    "def calc_max(p,w,c,n):\n",
    "    if n==0 or c==0:\n",
    "        return 0\n",
    "    if (w[n-1]>c):\n",
    "        return calc_max(p,w,c,n-1)\n",
    "    else:\n",
    "        return max(p[n-1]+calc_max(p,w,c-w[n-1],n-1),calc_max(p,w,c,n-1))\n",
    "\n",
    "\n",
    "p=[5,10,15,7,8,9,4]\n",
    "w=[1,3,5,4,1,3,2]\n",
    "c=15\n",
    "n=len(p)\n",
    "\n",
    "print(calc_max(p,w,c,n))"
   ]
  },
  {
   "cell_type": "code",
   "execution_count": 15,
   "id": "502cb157",
   "metadata": {},
   "outputs": [],
   "source": [
    "#dynamic programming"
   ]
  },
  {
   "cell_type": "code",
   "execution_count": 8,
   "id": "4066c979",
   "metadata": {},
   "outputs": [
    {
     "name": "stdout",
     "output_type": "stream",
     "text": [
      "51\n",
      "[[-1, -1, -1, -1, -1, -1, -1, -1, -1, -1, -1, -1, -1, -1, -1, -1], [-1, 5, 5, 5, 5, 5, 5, 5, 5, 5, 5, 5, 5, 5, 5, 5], [-1, 5, 5, 10, 15, 15, 15, 15, 15, 15, 15, 15, 15, 15, 15, 15], [-1, -1, -1, -1, -1, 15, 20, 20, 25, 30, 30, 30, 30, 30, 30, 30], [-1, -1, -1, -1, -1, -1, -1, -1, -1, 30, 30, 30, 32, 37, 37, 37], [-1, -1, -1, -1, -1, -1, -1, -1, -1, -1, 38, -1, 38, 40, -1, 45], [-1, -1, -1, -1, -1, -1, -1, -1, -1, -1, -1, -1, -1, 47, -1, 47], [-1, -1, -1, -1, -1, -1, -1, -1, -1, -1, -1, -1, -1, -1, -1, 51]]\n"
     ]
    }
   ],
   "source": [
    "#Recursion+data storing (top down approach [memoization])\n",
    "\n",
    "def calc_max(p,w,c,n):\n",
    "    if n==0 or c==0:\n",
    "        return 0\n",
    "    if DP[n][c]!=-1:\n",
    "        return DP[n][c]\n",
    "    if (w[n-1]<=c):\n",
    "        DP[n][c]=max(p[n-1]+calc_max(p,w,c-w[n-1],n-1),calc_max(p,w,c,n-1))\n",
    "        return DP[n][c]\n",
    "    else:\n",
    "        DP[n][c]=calc_max(p,w,c,n-1)\n",
    "        return DP[n][c]\n",
    "    \n",
    "\n",
    "p=[5,10,15,7,8,9,4]\n",
    "w=[1,3,5,4,1,3,2]\n",
    "c=15\n",
    "n=len(p)\n",
    "DP=[[-1 for i in range(c+1)] for j in range(n+1)]\n",
    "print(calc_max(p,w,c,n))\n",
    "print(DP)"
   ]
  },
  {
   "cell_type": "code",
   "execution_count": 14,
   "id": "9fdc3ba3",
   "metadata": {},
   "outputs": [
    {
     "name": "stdout",
     "output_type": "stream",
     "text": [
      "51\n"
     ]
    }
   ],
   "source": [
    "#botton-up approach(iterative[tabulation])\n",
    "    \n",
    "\n",
    "p=[5,10,15,7,8,9,4]\n",
    "w=[1,3,5,4,1,3,2]\n",
    "c=15\n",
    "n=len(p)#len(w)\n",
    "DP=[[0 for i in range(c+1)] for j in range(n+1)]\n",
    "for i in range(1,n+1):\n",
    "     for j in range(1,c+1):\n",
    "            if j-w[i-1]<0:\n",
    "                DP[i][j]=DP[i-1][j]\n",
    "            else:\n",
    "                DP[i][j]=max(DP[i-1][j],p[i-1]+DP[i-1][j-w[i-1]])\n",
    "            \n",
    "\n",
    "print(DP[n][c])\n"
   ]
  },
  {
   "cell_type": "code",
   "execution_count": null,
   "id": "e6bafefa",
   "metadata": {},
   "outputs": [],
   "source": []
  }
 ],
 "metadata": {
  "kernelspec": {
   "display_name": "Python 3 (ipykernel)",
   "language": "python",
   "name": "python3"
  },
  "language_info": {
   "codemirror_mode": {
    "name": "ipython",
    "version": 3
   },
   "file_extension": ".py",
   "mimetype": "text/x-python",
   "name": "python",
   "nbconvert_exporter": "python",
   "pygments_lexer": "ipython3",
   "version": "3.11.5"
  }
 },
 "nbformat": 4,
 "nbformat_minor": 5
}
