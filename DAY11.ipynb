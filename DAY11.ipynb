{
 "cells": [
  {
   "cell_type": "markdown",
   "id": "1fbaad42",
   "metadata": {},
   "source": [
    "##### Step 1: insert the node to appropriate location \n",
    "##### step 2: Calculate height of the tree\n",
    "##### Step 3:calculator balance factor \n",
    "##### step 4:if required perform the appropriate quotation."
   ]
  },
  {
   "cell_type": "code",
   "execution_count": 1,
   "id": "731c5231",
   "metadata": {},
   "outputs": [
    {
     "name": "stdout",
     "output_type": "stream",
     "text": [
      "0 7 12 17 19 21 27 29 34 38 75 99 100 134 143 "
     ]
    }
   ],
   "source": [
    "#AVL tree\n",
    "class node:\n",
    "    def __init__(self,data):\n",
    "        self.value=data\n",
    "        self.left=None\n",
    "        self.right=None\n",
    "        self.height=1\n",
    "\n",
    "def inorder(root):#print the data in inorder format\n",
    "    if not root:\n",
    "        return\n",
    "    inorder(root.left)\n",
    "    print(root.value,end=\" \")\n",
    "    inorder(root.right)\n",
    "\n",
    "def insert(root,Super):\n",
    "    if not root:\n",
    "        return node(Super)\n",
    "    if Super<root.value:\n",
    "        root.left=insert(root.left,Super)\n",
    "    else:\n",
    "        root.right=insert(root.right,Super)\n",
    "   \n",
    "    root.height=1+max(ght(root.left),ght(root.right))\n",
    "    \n",
    "    BF=getBF(root)\n",
    "    \n",
    "    #RR rotation\n",
    "    if BF>1 and Super < root.left.value:\n",
    "        return rightRotate(root)\n",
    "    \n",
    "    #RL rotation\n",
    "    if BF>1 and Super > root.left.value:\n",
    "        root.left=leftRotate(root.left)\n",
    "        return rightRotate(root)\n",
    "    \n",
    "    #LL rotation   \n",
    "    if BF<-1 and Super>root.right.value:\n",
    "         return leftRotate(root)\n",
    "     \n",
    "    #LR rotation   \n",
    "    if BF<-1 and Super<root.right.value:\n",
    "        root.right=rightRotate(root.right)\n",
    "        return leftRotate(root)\n",
    "    \n",
    "    return root\n",
    "\n",
    "def ght(root):\n",
    "    if not root:\n",
    "        return 0\n",
    "    return root.height\n",
    "\n",
    "def getBF(root):\n",
    "    if not root:\n",
    "        return 0\n",
    "    return ght(root.left)-ght(root.right)\n",
    "       \n",
    "def leftRotate(A):\n",
    "    B=A.right\n",
    "    temp=B.left\n",
    "    B.left=A\n",
    "    A.right=temp\n",
    "    \n",
    "    A.height=1+max(ght(A.left),ght(A.right))\n",
    "    B.height=1+max(ght(B.left),ght(B.right))\n",
    "    return B\n",
    "\n",
    "def rightRotate(A):\n",
    "    B=A.left\n",
    "    temp=B.right\n",
    "    B.right=A\n",
    "    A.left=temp\n",
    "    \n",
    "    A.height=1+max(ght(A.left),ght(A.right))\n",
    "    B.height=1+max(ght(B.left),ght(B.right))\n",
    "    return B\n",
    "\n",
    "\n",
    "\n",
    "if __name__==\"__main__\":\n",
    "    root=None\n",
    "    vl=[19,99,75,7,21,34,38,27,134,100,29,0,12,17,143]\n",
    "    for i in vl:\n",
    "        root=insert(root,i)\n",
    "    inorder(root)"
   ]
  },
  {
   "cell_type": "markdown",
   "id": "74c5a1ed",
   "metadata": {},
   "source": [
    "#### Background :in the digital age numbers are often displayed with thousands separators(commas) for redability. For example, the number 1,000 is easier to read than 1000. But have you ever wondered how many commas are used when printing All the numbers from one to 100,000 \n",
    "##### objective. Your task is to calculate the maximum number of commas used when printing the integer from one to 100,000. Assume that each number is printed with the  appropriate thousands separator."
   ]
  },
  {
   "cell_type": "code",
   "execution_count": null,
   "id": "bf332c2c",
   "metadata": {},
   "outputs": [
    {
     "name": "stdout",
     "output_type": "stream",
     "text": [
      "239968987\n"
     ]
    }
   ],
   "source": [
    "n=int(input())\n",
    "c=0\n",
    "for i in range(1000,n+1):\n",
    "    i=str(i)\n",
    "    if len(i)>3 and len(i)<=6:\n",
    "        c+=1\n",
    "    if len(i)>6 and len(i)<=9:\n",
    "        c+=2\n",
    "    if len(i)>9 and len(i)<=12:\n",
    "        c+=3\n",
    "print(c)\n",
    "    \n",
    "    \n",
    "    "
   ]
  },
  {
   "cell_type": "code",
   "execution_count": 12,
   "id": "b2fb1de3",
   "metadata": {},
   "outputs": [
    {
     "name": "stdout",
     "output_type": "stream",
     "text": [
      "-1 5 7 -10 -3 0 3 -5\n",
      "3\n"
     ]
    }
   ],
   "source": [
    "l=list(map(int,input().split()))\n",
    "min=None\n",
    "for i in l:\n",
    "    if i>0:\n",
    "        if min is None or i < min:\n",
    "            min=i\n",
    "if min:\n",
    "    print(min)  "
   ]
  },
  {
   "cell_type": "code",
   "execution_count": 15,
   "id": "5cd17977",
   "metadata": {},
   "outputs": [
    {
     "name": "stdout",
     "output_type": "stream",
     "text": [
      "4 3 6 5 -1 3\n",
      "3\n"
     ]
    }
   ],
   "source": [
    "l=list(map(int,input().split()))\n",
    "l.sort()\n",
    "for i in l:\n",
    "    if i>0:\n",
    "        print(i)\n",
    "        break"
   ]
  },
  {
   "cell_type": "code",
   "execution_count": 3,
   "id": "3e86bd46",
   "metadata": {},
   "outputs": [
    {
     "name": "stdout",
     "output_type": "stream",
     "text": [
      "4 -1 2 -2 4\n",
      "7\n"
     ]
    }
   ],
   "source": [
    "l=list(map(int,input().split()))\n",
    "n=len(l)\n",
    "curr_sum=0\n",
    "max_sum=float(inf)*-1\n",
    "for i in range(0,n):\n",
    "    curr_sum+=l[i]\n",
    "    if max_sum<curr_sum:\n",
    "        max_sum=curr_sum\n",
    "    if curr_sum<0:\n",
    "        curr_sum=0\n",
    "print(max_sum)\n",
    "    "
   ]
  },
  {
   "cell_type": "markdown",
   "id": "90bfe11c",
   "metadata": {},
   "source": [
    "#### 94,102,144,145,41,53,104"
   ]
  },
  {
   "cell_type": "code",
   "execution_count": null,
   "id": "0f67dd29",
   "metadata": {},
   "outputs": [],
   "source": []
  }
 ],
 "metadata": {
  "kernelspec": {
   "display_name": "Python 3 (ipykernel)",
   "language": "python",
   "name": "python3"
  },
  "language_info": {
   "codemirror_mode": {
    "name": "ipython",
    "version": 3
   },
   "file_extension": ".py",
   "mimetype": "text/x-python",
   "name": "python",
   "nbconvert_exporter": "python",
   "pygments_lexer": "ipython3",
   "version": "3.11.5"
  }
 },
 "nbformat": 4,
 "nbformat_minor": 5
}
