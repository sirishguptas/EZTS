{
 "cells": [
  {
   "cell_type": "markdown",
   "id": "c879d041",
   "metadata": {},
   "source": [
    "### OPEN HASHING"
   ]
  },
  {
   "cell_type": "code",
   "execution_count": 44,
   "id": "bebc17c9",
   "metadata": {},
   "outputs": [
    {
     "name": "stdout",
     "output_type": "stream",
     "text": [
      "[<__main__.Node object at 0x000002095A2C0150>, None, None, None, None, <__main__.Node object at 0x000002095AA1E090>, None, <__main__.Node object at 0x000002095AA1F350>, None, None]\n",
      "20 30 \n",
      "Empty\n",
      "Empty\n",
      "Empty\n",
      "Empty\n",
      "45 25 \n",
      "Empty\n",
      "67 \n",
      "Empty\n",
      "Empty\n"
     ]
    }
   ],
   "source": [
    "class Node:\n",
    "    def __init__(self, data):\n",
    "        self.data = data\n",
    "        self.next = None\n",
    "\n",
    "\n",
    "def insert_at_end(HL,H,data):\n",
    "    new_node = Node(data)\n",
    "    if not HL[H]:\n",
    "        HL[H] = new_node\n",
    "        return\n",
    "    curr = HL[H]\n",
    "    while curr.next:\n",
    "        curr = curr.next\n",
    "    curr.next = new_node\n",
    "\n",
    "def search(key):\n",
    "    current = head\n",
    "    while current:\n",
    "        if current.data == key:\n",
    "            return True\n",
    "        current = current.next\n",
    "    return False\n",
    "\n",
    "def delete_node(key):\n",
    "    current = head\n",
    "    prev = None\n",
    "    if current and current.data == key:\n",
    "        head = current.next\n",
    "        return\n",
    "    while current and current.data != key:\n",
    "        prev = current\n",
    "        current = current.next\n",
    "    if not current:\n",
    "        return\n",
    "    prev.next = current.next\n",
    "\n",
    "\n",
    "def print_list(head):\n",
    "    current = head\n",
    "    while current:\n",
    "        print(current.data,end=\" \")\n",
    "        current = current.next\n",
    "        \n",
    "k=[20,30,45,25,67]\n",
    "hashList=[None for i in range(10)]\n",
    "for i in k:\n",
    "    H=i%10\n",
    "    insert_at_end(hashList,H,i)\n",
    "print(hashList)\n",
    "\n",
    "for i in hashList:\n",
    "    if i is None:\n",
    "        print(\"Empty\")\n",
    "    else:\n",
    "        print_list(i)\n",
    "        print()\n",
    "\n",
    "    \n"
   ]
  },
  {
   "cell_type": "markdown",
   "id": "676ee603",
   "metadata": {},
   "source": [
    "Insert the data to the end of linked list. Search the data in the linked list. Delete any specific element from linked list"
   ]
  },
  {
   "cell_type": "code",
   "execution_count": null,
   "id": "3e1ae9a8",
   "metadata": {},
   "outputs": [],
   "source": []
  },
  {
   "cell_type": "code",
   "execution_count": 43,
   "id": "4377b2d6",
   "metadata": {},
   "outputs": [
    {
     "name": "stdout",
     "output_type": "stream",
     "text": [
      "20 30 Empty Empty Empty Empty 45 25 Empty 67 Empty Empty \n",
      " True\n",
      "False\n",
      "20 Empty Empty Empty Empty 45 25 Empty Empty Empty Empty "
     ]
    }
   ],
   "source": [
    "class Node:\n",
    "    def __init__(self, data):\n",
    "        self.data = data\n",
    "        self.next = None\n",
    "\n",
    "\n",
    "def insert_at_end(HL, H, data):\n",
    "    new_node = Node(data)\n",
    "    if not HL[H]:\n",
    "        HL[H] = new_node\n",
    "        return\n",
    "    curr = HL[H]\n",
    "    while curr.next:\n",
    "        curr = curr.next\n",
    "    curr.next = new_node\n",
    "\n",
    "\n",
    "def search(HL, key):\n",
    "    H = key % 10\n",
    "    current = HL[H]\n",
    "    while current:\n",
    "        if current.data == key:\n",
    "            return True\n",
    "        current = current.next\n",
    "    return False\n",
    "\n",
    "\n",
    "def delete_node(HL, key):\n",
    "    H = key % 10\n",
    "    current = HL[H]\n",
    "    prev = None\n",
    "    if current and current.data == key:\n",
    "        HL[H] = current.next\n",
    "        return\n",
    "    while current and current.data != key:\n",
    "        prev = current\n",
    "        current = current.next\n",
    "    if not current:\n",
    "        return\n",
    "    prev.next = current.next\n",
    "\n",
    "\n",
    "def print_list(head):\n",
    "    current = head\n",
    "    while current:\n",
    "        print(current.data, end=\" \")\n",
    "        current = current.next\n",
    "    #print()\n",
    "def print_hashlist(hashList):\n",
    "    for i in hashList:\n",
    "        if i is None:\n",
    "            print(\"Empty\",end=\" \")\n",
    "        else:\n",
    "            print_list(i)\n",
    "        \n",
    "\n",
    "\n",
    "k = [20, 30, 45, 25, 67]\n",
    "hashList = [None for _ in range(10)]\n",
    "for i in k:\n",
    "    H = i % 10\n",
    "    insert_at_end(hashList, H, i)\n",
    "\n",
    "print_hashlist(hashList)\n",
    "\n",
    "\n",
    "print(\"\\n\" ,search(hashList, 25))\n",
    "print( search(hashList, 99))\n",
    "\n",
    "\n",
    "delete_node(hashList, 30)\n",
    "delete_node(hashList, 67)\n",
    "\n",
    "print_hashlist(hashList)\n",
    "\n",
    "\n"
   ]
  },
  {
   "cell_type": "markdown",
   "id": "288e9299",
   "metadata": {},
   "source": [
    "#### Closed hashing[linear probing]"
   ]
  },
  {
   "cell_type": "code",
   "execution_count": 10,
   "id": "16f40772",
   "metadata": {},
   "outputs": [
    {
     "name": "stdout",
     "output_type": "stream",
     "text": [
      "[10, 100, 22, 42, 50, 92, 56, 47, 79, 99]\n"
     ]
    }
   ],
   "source": [
    "\n",
    "k = [22,10,47,42,56,100,50,92,99,79]#if n>10 use k%n\n",
    "hashList = [False for _ in range(10)]\n",
    "for e in k:\n",
    "    for i in range(len(k)):\n",
    "        x=((e%10)+i)%10 #((k%n)+i)%n\n",
    "        if hashList[x]==False:\n",
    "            hashList[x]=e\n",
    "            break\n",
    "\n",
    "print(hashList)"
   ]
  },
  {
   "cell_type": "code",
   "execution_count": 14,
   "id": "37a7fe90",
   "metadata": {},
   "outputs": [
    {
     "name": "stdout",
     "output_type": "stream",
     "text": [
      "[10, 100, 22, 42, 50, 79, 56, 47, 92, 99]\n"
     ]
    }
   ],
   "source": [
    "#quadratic probing\n",
    "k = [22,10,47,42,56,100,50,92,99,79]#if n>10 use k%n\n",
    "n=len(k)\n",
    "hashList = [False for _ in range(n)]\n",
    "\n",
    "for e in k:\n",
    "    for i in range(n):\n",
    "        x=((e%n)+i*i)%n #((k%n)+i)%n\n",
    "        if hashList[x]==False:\n",
    "            hashList[x]=e\n",
    "            break\n",
    "\n",
    "print(hashList)"
   ]
  },
  {
   "cell_type": "code",
   "execution_count": null,
   "id": "fb880bcd",
   "metadata": {},
   "outputs": [],
   "source": []
  }
 ],
 "metadata": {
  "kernelspec": {
   "display_name": "Python 3 (ipykernel)",
   "language": "python",
   "name": "python3"
  },
  "language_info": {
   "codemirror_mode": {
    "name": "ipython",
    "version": 3
   },
   "file_extension": ".py",
   "mimetype": "text/x-python",
   "name": "python",
   "nbconvert_exporter": "python",
   "pygments_lexer": "ipython3",
   "version": "3.11.5"
  }
 },
 "nbformat": 4,
 "nbformat_minor": 5
}
